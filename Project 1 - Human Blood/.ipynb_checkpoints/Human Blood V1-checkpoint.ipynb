{
 "cells": [
  {
   "cell_type": "markdown",
   "metadata": {},
   "source": [
    "# A quick look into the flow of Human Blood in 2016 (Imports and Exports)\n",
    "\n",
    "by Daniel Walker, 6th of January 2018\n",
    "\n",
    "\n",
    "\n"
   ]
  },
  {
   "cell_type": "markdown",
   "metadata": {},
   "source": [
    "This is a personal project mostly to practice Python3 Data Science skills. I will be looking at the extremes of the import and export of human blood during 2016.\n",
    "\n",
    "The full description of the commodity code relating to human blood is: \"3002 - Human blood; animal blood for therapeutic, prophylactic or diagnostic uses; antisera, other blood fractions, immunological products, modified or obtained by biotechnologial processes, vaccines, toxins, cultures of micro-organisms (excluding yeasts) ect\""
   ]
  },
  {
   "cell_type": "code",
   "execution_count": 1,
   "metadata": {
    "collapsed": true
   },
   "outputs": [],
   "source": [
    "\"\"\"This imports required libraries/packages for the data analysis. Warnings to \"filter\" the warnings displayed. Pandas is \n",
    "needed for the dataframes. matplotlib is for the graphs. numpy is needed for scientific computing.\"\"\"\n",
    "import warnings\n",
    "warnings.simplefilter('ignore', FutureWarning)\n",
    "\n",
    "import numpy as np\n",
    "from pandas import *\n",
    "%matplotlib inline\n",
    "import numpy as np\n",
    "import matplotlib.pyplot as plt"
   ]
  },
  {
   "cell_type": "markdown",
   "metadata": {},
   "source": [
    "## Getting and preparing the data"
   ]
  },
  {
   "cell_type": "markdown",
   "metadata": {},
   "source": [
    "I obtained the data from the [United Nations Comtrade](https://comtrade.un.org/data/) website, by selecting the following configuration:\n",
    "\n",
    "First data set:\n",
    " - Type of Product: Goods\n",
    " - Frequency: Annual\n",
    " - Periods: All of 2016\n",
    " - Reporter: All\n",
    " - Partners: World\n",
    " - Trade flows: All\n",
    " - HS (as reported) commodity codes: 3002 - Human blood\n",
    "\n",
    "The data will be downloaded using the *Download CSV* button, and named appropriately."
   ]
  },
  {
   "cell_type": "code",
   "execution_count": 2,
   "metadata": {},
   "outputs": [
    {
     "data": {
      "text/html": [
       "<div>\n",
       "<style>\n",
       "    .dataframe thead tr:only-child th {\n",
       "        text-align: right;\n",
       "    }\n",
       "\n",
       "    .dataframe thead th {\n",
       "        text-align: left;\n",
       "    }\n",
       "\n",
       "    .dataframe tbody tr th {\n",
       "        vertical-align: top;\n",
       "    }\n",
       "</style>\n",
       "<table border=\"1\" class=\"dataframe\">\n",
       "  <thead>\n",
       "    <tr style=\"text-align: right;\">\n",
       "      <th></th>\n",
       "      <th>Classification</th>\n",
       "      <th>Year</th>\n",
       "      <th>Period</th>\n",
       "      <th>Period Desc.</th>\n",
       "      <th>Aggregate Level</th>\n",
       "      <th>Is Leaf Code</th>\n",
       "      <th>Trade Flow Code</th>\n",
       "      <th>Trade Flow</th>\n",
       "      <th>Reporter Code</th>\n",
       "      <th>Reporter</th>\n",
       "      <th>...</th>\n",
       "      <th>Qty</th>\n",
       "      <th>Alt Qty Unit Code</th>\n",
       "      <th>Alt Qty Unit</th>\n",
       "      <th>Alt Qty</th>\n",
       "      <th>Netweight (kg)</th>\n",
       "      <th>Gross weight (kg)</th>\n",
       "      <th>Trade Value (US$)</th>\n",
       "      <th>CIF Trade Value (US$)</th>\n",
       "      <th>FOB Trade Value (US$)</th>\n",
       "      <th>Flag</th>\n",
       "    </tr>\n",
       "  </thead>\n",
       "  <tbody>\n",
       "    <tr>\n",
       "      <th>0</th>\n",
       "      <td>H4</td>\n",
       "      <td>2016</td>\n",
       "      <td>2016</td>\n",
       "      <td>2016</td>\n",
       "      <td>4</td>\n",
       "      <td>0</td>\n",
       "      <td>1</td>\n",
       "      <td>Import</td>\n",
       "      <td>8</td>\n",
       "      <td>Albania</td>\n",
       "      <td>...</td>\n",
       "      <td>NaN</td>\n",
       "      <td>NaN</td>\n",
       "      <td>17985.0</td>\n",
       "      <td>NaN</td>\n",
       "      <td>17985.0</td>\n",
       "      <td>NaN</td>\n",
       "      <td>8354632</td>\n",
       "      <td>NaN</td>\n",
       "      <td>NaN</td>\n",
       "      <td>0</td>\n",
       "    </tr>\n",
       "    <tr>\n",
       "      <th>1</th>\n",
       "      <td>H4</td>\n",
       "      <td>2016</td>\n",
       "      <td>2016</td>\n",
       "      <td>2016</td>\n",
       "      <td>4</td>\n",
       "      <td>0</td>\n",
       "      <td>2</td>\n",
       "      <td>Export</td>\n",
       "      <td>8</td>\n",
       "      <td>Albania</td>\n",
       "      <td>...</td>\n",
       "      <td>NaN</td>\n",
       "      <td>NaN</td>\n",
       "      <td>1898.0</td>\n",
       "      <td>NaN</td>\n",
       "      <td>1898.0</td>\n",
       "      <td>NaN</td>\n",
       "      <td>83948</td>\n",
       "      <td>NaN</td>\n",
       "      <td>NaN</td>\n",
       "      <td>0</td>\n",
       "    </tr>\n",
       "    <tr>\n",
       "      <th>2</th>\n",
       "      <td>H4</td>\n",
       "      <td>2016</td>\n",
       "      <td>2016</td>\n",
       "      <td>2016</td>\n",
       "      <td>4</td>\n",
       "      <td>0</td>\n",
       "      <td>1</td>\n",
       "      <td>Import</td>\n",
       "      <td>12</td>\n",
       "      <td>Algeria</td>\n",
       "      <td>...</td>\n",
       "      <td>NaN</td>\n",
       "      <td>NaN</td>\n",
       "      <td>NaN</td>\n",
       "      <td>NaN</td>\n",
       "      <td>800158.0</td>\n",
       "      <td>NaN</td>\n",
       "      <td>391461100</td>\n",
       "      <td>NaN</td>\n",
       "      <td>NaN</td>\n",
       "      <td>4</td>\n",
       "    </tr>\n",
       "    <tr>\n",
       "      <th>3</th>\n",
       "      <td>H4</td>\n",
       "      <td>2016</td>\n",
       "      <td>2016</td>\n",
       "      <td>2016</td>\n",
       "      <td>4</td>\n",
       "      <td>0</td>\n",
       "      <td>2</td>\n",
       "      <td>Export</td>\n",
       "      <td>12</td>\n",
       "      <td>Algeria</td>\n",
       "      <td>...</td>\n",
       "      <td>NaN</td>\n",
       "      <td>NaN</td>\n",
       "      <td>NaN</td>\n",
       "      <td>NaN</td>\n",
       "      <td>NaN</td>\n",
       "      <td>NaN</td>\n",
       "      <td>315435</td>\n",
       "      <td>NaN</td>\n",
       "      <td>NaN</td>\n",
       "      <td>0</td>\n",
       "    </tr>\n",
       "    <tr>\n",
       "      <th>4</th>\n",
       "      <td>H4</td>\n",
       "      <td>2016</td>\n",
       "      <td>2016</td>\n",
       "      <td>2016</td>\n",
       "      <td>4</td>\n",
       "      <td>0</td>\n",
       "      <td>1</td>\n",
       "      <td>Import</td>\n",
       "      <td>31</td>\n",
       "      <td>Azerbaijan</td>\n",
       "      <td>...</td>\n",
       "      <td>NaN</td>\n",
       "      <td>NaN</td>\n",
       "      <td>NaN</td>\n",
       "      <td>NaN</td>\n",
       "      <td>NaN</td>\n",
       "      <td>NaN</td>\n",
       "      <td>24621422</td>\n",
       "      <td>NaN</td>\n",
       "      <td>NaN</td>\n",
       "      <td>0</td>\n",
       "    </tr>\n",
       "  </tbody>\n",
       "</table>\n",
       "<p>5 rows × 35 columns</p>\n",
       "</div>"
      ],
      "text/plain": [
       "  Classification  Year  Period  Period Desc.  Aggregate Level  Is Leaf Code  \\\n",
       "0             H4  2016    2016          2016                4             0   \n",
       "1             H4  2016    2016          2016                4             0   \n",
       "2             H4  2016    2016          2016                4             0   \n",
       "3             H4  2016    2016          2016                4             0   \n",
       "4             H4  2016    2016          2016                4             0   \n",
       "\n",
       "   Trade Flow Code Trade Flow  Reporter Code    Reporter  ...  Qty  \\\n",
       "0                1     Import              8     Albania  ...  NaN   \n",
       "1                2     Export              8     Albania  ...  NaN   \n",
       "2                1     Import             12     Algeria  ...  NaN   \n",
       "3                2     Export             12     Algeria  ...  NaN   \n",
       "4                1     Import             31  Azerbaijan  ...  NaN   \n",
       "\n",
       "   Alt Qty Unit Code Alt Qty Unit Alt Qty  Netweight (kg)  Gross weight (kg)  \\\n",
       "0                NaN      17985.0     NaN         17985.0                NaN   \n",
       "1                NaN       1898.0     NaN          1898.0                NaN   \n",
       "2                NaN          NaN     NaN        800158.0                NaN   \n",
       "3                NaN          NaN     NaN             NaN                NaN   \n",
       "4                NaN          NaN     NaN             NaN                NaN   \n",
       "\n",
       "   Trade Value (US$)  CIF Trade Value (US$)  FOB Trade Value (US$)  Flag  \n",
       "0            8354632                    NaN                    NaN     0  \n",
       "1              83948                    NaN                    NaN     0  \n",
       "2          391461100                    NaN                    NaN     4  \n",
       "3             315435                    NaN                    NaN     0  \n",
       "4           24621422                    NaN                    NaN     0  \n",
       "\n",
       "[5 rows x 35 columns]"
      ]
     },
     "execution_count": 2,
     "metadata": {},
     "output_type": "execute_result"
    }
   ],
   "source": [
    "#This global variable sets the location of the csv file to be imported.\n",
    "LOCATION = 'comtrade_humanblood_world_2016.csv'\n",
    "\n",
    "#This saves the data from a csv file in the location \"LOCATION\" as a dataframe called bloodTotal.\n",
    "bloodTotal = read_csv(LOCATION)\n",
    "#bloodtotal.head() shows the first 5 rows of the dataframe. (Only here to make sure the data is imported correctly/at all)\n",
    "bloodTotal.head()"
   ]
  },
  {
   "cell_type": "markdown",
   "metadata": {},
   "source": [
    "After the import I have noticed there are a lot of columns that are not relevent to my research and some that could be named better as well.\n",
    "\n",
    "So here I will start cleaning up the dataframe."
   ]
  },
  {
   "cell_type": "code",
   "execution_count": 3,
   "metadata": {},
   "outputs": [
    {
     "data": {
      "text/html": [
       "<div>\n",
       "<style>\n",
       "    .dataframe thead tr:only-child th {\n",
       "        text-align: right;\n",
       "    }\n",
       "\n",
       "    .dataframe thead th {\n",
       "        text-align: left;\n",
       "    }\n",
       "\n",
       "    .dataframe tbody tr th {\n",
       "        vertical-align: top;\n",
       "    }\n",
       "</style>\n",
       "<table border=\"1\" class=\"dataframe\">\n",
       "  <thead>\n",
       "    <tr style=\"text-align: right;\">\n",
       "      <th></th>\n",
       "      <th>Year</th>\n",
       "      <th>Trade Flow</th>\n",
       "      <th>Country</th>\n",
       "      <th>Trade Value (US$)</th>\n",
       "      <th>Netweight (kg)</th>\n",
       "    </tr>\n",
       "  </thead>\n",
       "  <tbody>\n",
       "    <tr>\n",
       "      <th>0</th>\n",
       "      <td>2016</td>\n",
       "      <td>Import</td>\n",
       "      <td>Albania</td>\n",
       "      <td>8354632</td>\n",
       "      <td>17985.0</td>\n",
       "    </tr>\n",
       "    <tr>\n",
       "      <th>1</th>\n",
       "      <td>2016</td>\n",
       "      <td>Export</td>\n",
       "      <td>Albania</td>\n",
       "      <td>83948</td>\n",
       "      <td>1898.0</td>\n",
       "    </tr>\n",
       "    <tr>\n",
       "      <th>2</th>\n",
       "      <td>2016</td>\n",
       "      <td>Import</td>\n",
       "      <td>Algeria</td>\n",
       "      <td>391461100</td>\n",
       "      <td>800158.0</td>\n",
       "    </tr>\n",
       "    <tr>\n",
       "      <th>3</th>\n",
       "      <td>2016</td>\n",
       "      <td>Export</td>\n",
       "      <td>Algeria</td>\n",
       "      <td>315435</td>\n",
       "      <td>NaN</td>\n",
       "    </tr>\n",
       "    <tr>\n",
       "      <th>4</th>\n",
       "      <td>2016</td>\n",
       "      <td>Import</td>\n",
       "      <td>Azerbaijan</td>\n",
       "      <td>24621422</td>\n",
       "      <td>NaN</td>\n",
       "    </tr>\n",
       "  </tbody>\n",
       "</table>\n",
       "</div>"
      ],
      "text/plain": [
       "   Year Trade Flow     Country  Trade Value (US$)  Netweight (kg)\n",
       "0  2016     Import     Albania            8354632         17985.0\n",
       "1  2016     Export     Albania              83948          1898.0\n",
       "2  2016     Import     Algeria          391461100        800158.0\n",
       "3  2016     Export     Algeria             315435             NaN\n",
       "4  2016     Import  Azerbaijan           24621422             NaN"
      ]
     },
     "execution_count": 3,
     "metadata": {},
     "output_type": "execute_result"
    }
   ],
   "source": [
    "#These set up the global variables for the heading names in the dataframes.\n",
    "YEAR = 'Year'\n",
    "COUNTRY = 'Reporter'\n",
    "FLOW = 'Trade Flow'\n",
    "VALUE = 'Trade Value (US$)'\n",
    "NETWEIGHT = 'Netweight (kg)'\n",
    "\n",
    "#I set the headings variable to a list of the global variables above.\n",
    "headings = [YEAR, FLOW, COUNTRY, VALUE, NETWEIGHT]\n",
    "#Here I make it so the headings in the bloodTotal dataframe are only the ones I have saved to the headings variable.\n",
    "bloodTotal = bloodTotal[headings]\n",
    "#I change the 'Reporter' column name to 'Country'\n",
    "bloodTotal = bloodTotal.rename(columns={'Reporter' : 'Country'})\n",
    "#After I changed the 'Reporter' coulumn's name to 'Country' I change the global variable to that as well so I can use it later.\n",
    "COUNTRY = 'Country'\n",
    "bloodTotal.head()"
   ]
  },
  {
   "cell_type": "markdown",
   "metadata": {},
   "source": [
    "We can see that there are missing values in the Netweight (kg) column, I plan on just leaving it there to show what little extra data we have while not using it for analysis.\n",
    "\n",
    "I will however quickly run a check that none of the other columns have any missing data."
   ]
  },
  {
   "cell_type": "code",
   "execution_count": 4,
   "metadata": {},
   "outputs": [
    {
     "data": {
      "text/plain": [
       "Year                  0\n",
       "Trade Flow            0\n",
       "Country               0\n",
       "Trade Value (US$)     0\n",
       "Netweight (kg)       32\n",
       "dtype: int64"
      ]
     },
     "execution_count": 4,
     "metadata": {},
     "output_type": "execute_result"
    }
   ],
   "source": [
    "#This checks everything in bloodTotal to see if it is null, and shows me the total in each column.\n",
    "bloodTotal.isnull().sum()"
   ]
  },
  {
   "cell_type": "markdown",
   "metadata": {},
   "source": [
    "Great, the rest of the columns at least has a value. \n",
    "\n",
    "There are way to fix or change the data to deal with the null values, for example: \n",
    "- I could drop every row that has a null value in it. But this will cause us to lose 32 rows of data, and as we arent going to be doing anything wit the netweight data, other than show it where availiable, keeping all the rows in the datafame seems the best best. \n",
    "\n",
    "For the above I could just use \"bloodTotal.dropna()\" which will drop any row with at least one null value in it.\n",
    "- I could also fill every null with a value I set. Or possibly if it suited the dataset a mean of the above and below values in the column. The issue with this is you are creating data, its not real and can end up leading to some wrong conclusions.\n",
    "\n",
    "An example of the above is \"bloodTotal['Netweight (kg)'] = bloodTotal['Netweight (kg)'].fillna(10)\" - Which would replace all null values in the bloodTotal Netweight column with 10.\n",
    "\n",
    "For the best estimate I would think that working out how much each country paid per kg of blood, both import and export, then getting the mean of that per kg and dividing a countries trade value by that number. This could and most likely would still cause massive errors though as we are looking at all human blood trades, and some is bound to be more valuable that others, so we will never be exactly correct."
   ]
  },
  {
   "cell_type": "markdown",
   "metadata": {},
   "source": [
    "## Aims and Objectives\n",
    "\n",
    "As mentioned before I will be looking at the extremes of this data for the purpose of satisfying my curiosity. For the same reasons I will take a quick look at the data of some countries that interest me.\n",
    "\n",
    "So in the objectives are:\n",
    "\n",
    "1. Find the total value of all Human Blood exports.\n",
    "- Find the total value of all Human Blood imports.\n",
    "\n",
    "- Find the top 5 importers of Human Blood. (Display in simple graph).\n",
    "- Find the top 5 exporters of Human Blood. (Display in simple graph).\n",
    "\n",
    "- Find the 5 lowest importers of Human Blood. (Display in simple graph).\n",
    "- Find the 5 lowest exporters of Human Blood. (Display in simple graph).\n",
    "\n",
    "- Find the top 5 importers AND exporters of Human Blood. (Display in simple graph).\n",
    "- Find the lowest 5 importers AND exporters of Human Blood. (Display in simple graph).\n",
    "\n",
    "- Find the data on the United Kingdom, USA and China. (Display in a pivot table).\n"
   ]
  },
  {
   "cell_type": "markdown",
   "metadata": {},
   "source": [
    "## Making import and export only dataframes\n",
    "We will first need to make some additional dataframes to make completing the above objectives easier."
   ]
  },
  {
   "cell_type": "code",
   "execution_count": 5,
   "metadata": {
    "collapsed": true
   },
   "outputs": [],
   "source": [
    "\"\"\"Here we are grouping the data based on the value in the 'Trade Flow' column. This allows us to save every row of data with\n",
    "'Import' in that coulumn to its own group. Same for 'Export'. We are then assigning it to its own dataframe\"\"\"\n",
    "grouped = bloodTotal.groupby('Trade Flow')\n",
    "bloodImport = grouped.get_group('Import')\n",
    "bloodExport = grouped.get_group('Export')\n",
    "\n",
    "\"\"\"Below I reset the index of the new dataframes, as they would otherwise still be using the old dataframes index. The \n",
    "inplace=True means to apply the reset to the dataframe rather than make a copy.\"\"\"\n",
    "bloodImport.reset_index(inplace=True)\n",
    "bloodExport.reset_index(inplace=True)"
   ]
  },
  {
   "cell_type": "markdown",
   "metadata": {},
   "source": [
    "### Objective 1 - Find the total value (in US$) of all Human Blood Exports"
   ]
  },
  {
   "cell_type": "code",
   "execution_count": 6,
   "metadata": {
    "scrolled": false
   },
   "outputs": [
    {
     "data": {
      "text/plain": [
       "130032923258"
      ]
     },
     "execution_count": 6,
     "metadata": {},
     "output_type": "execute_result"
    }
   ],
   "source": [
    "#I sum up the total of the bloodExport trade value column.\n",
    "bloodExport[VALUE].sum()"
   ]
  },
  {
   "cell_type": "markdown",
   "metadata": {},
   "source": [
    "The total value of the worlds Human Blood exports is $130,032,923,258"
   ]
  },
  {
   "cell_type": "markdown",
   "metadata": {
    "collapsed": true
   },
   "source": [
    "### Objective 2 - Find the total value (in US$) of all Human Blood Imports"
   ]
  },
  {
   "cell_type": "code",
   "execution_count": 7,
   "metadata": {},
   "outputs": [
    {
     "data": {
      "text/plain": [
       "131519813186"
      ]
     },
     "execution_count": 7,
     "metadata": {},
     "output_type": "execute_result"
    }
   ],
   "source": [
    "#I sum up the total of the bloodImport trade value column.\n",
    "bloodImport[VALUE].sum()"
   ]
  },
  {
   "cell_type": "markdown",
   "metadata": {},
   "source": [
    "The total value of the worlds Human Blood imports is $131,519,813,186\n",
    "\n",
    "The slight difference, of nearly $1.5 billion, is due to not working with the re-export or re-import data."
   ]
  },
  {
   "cell_type": "markdown",
   "metadata": {},
   "source": [
    "### Objective 3 - Find the top 5 importers of Human Blood (Display in graph)"
   ]
  },
  {
   "cell_type": "code",
   "execution_count": 8,
   "metadata": {},
   "outputs": [
    {
     "data": {
      "text/html": [
       "<div>\n",
       "<style>\n",
       "    .dataframe thead tr:only-child th {\n",
       "        text-align: right;\n",
       "    }\n",
       "\n",
       "    .dataframe thead th {\n",
       "        text-align: left;\n",
       "    }\n",
       "\n",
       "    .dataframe tbody tr th {\n",
       "        vertical-align: top;\n",
       "    }\n",
       "</style>\n",
       "<table border=\"1\" class=\"dataframe\">\n",
       "  <thead>\n",
       "    <tr style=\"text-align: right;\">\n",
       "      <th></th>\n",
       "      <th>Year</th>\n",
       "      <th>Trade Flow</th>\n",
       "      <th>Country</th>\n",
       "      <th>Trade Value (US$)</th>\n",
       "      <th>Netweight (kg)</th>\n",
       "    </tr>\n",
       "  </thead>\n",
       "  <tbody>\n",
       "    <tr>\n",
       "      <th>0</th>\n",
       "      <td>2016</td>\n",
       "      <td>Import</td>\n",
       "      <td>USA</td>\n",
       "      <td>20167930206</td>\n",
       "      <td>18016725.0</td>\n",
       "    </tr>\n",
       "    <tr>\n",
       "      <th>1</th>\n",
       "      <td>2016</td>\n",
       "      <td>Import</td>\n",
       "      <td>Germany</td>\n",
       "      <td>18534459594</td>\n",
       "      <td>21778473.0</td>\n",
       "    </tr>\n",
       "    <tr>\n",
       "      <th>2</th>\n",
       "      <td>2016</td>\n",
       "      <td>Import</td>\n",
       "      <td>Belgium</td>\n",
       "      <td>11270792683</td>\n",
       "      <td>10688078.0</td>\n",
       "    </tr>\n",
       "    <tr>\n",
       "      <th>3</th>\n",
       "      <td>2016</td>\n",
       "      <td>Import</td>\n",
       "      <td>United Kingdom</td>\n",
       "      <td>10001382681</td>\n",
       "      <td>11751068.0</td>\n",
       "    </tr>\n",
       "    <tr>\n",
       "      <th>4</th>\n",
       "      <td>2016</td>\n",
       "      <td>Import</td>\n",
       "      <td>Switzerland</td>\n",
       "      <td>7478497581</td>\n",
       "      <td>8951747.0</td>\n",
       "    </tr>\n",
       "  </tbody>\n",
       "</table>\n",
       "</div>"
      ],
      "text/plain": [
       "   Year Trade Flow         Country  Trade Value (US$)  Netweight (kg)\n",
       "0  2016     Import             USA        20167930206      18016725.0\n",
       "1  2016     Import         Germany        18534459594      21778473.0\n",
       "2  2016     Import         Belgium        11270792683      10688078.0\n",
       "3  2016     Import  United Kingdom        10001382681      11751068.0\n",
       "4  2016     Import     Switzerland         7478497581       8951747.0"
      ]
     },
     "execution_count": 8,
     "metadata": {},
     "output_type": "execute_result"
    }
   ],
   "source": [
    "#Here I make a new dataframe containing only the top 5 values, after sorting obviously, from the \"main\" bloodImport dataframe.\n",
    "bloodImportTopFive = bloodImport.sort_values('Trade Value (US$)', ascending=False).reset_index(drop=True).head()\n",
    "#This is to delete the extra, and irrelevant, index column that gets added to the new dataframe.\n",
    "del bloodImportTopFive['index']\n",
    "bloodImportTopFive.head()"
   ]
  },
  {
   "cell_type": "markdown",
   "metadata": {},
   "source": [
    "The table below shows the top 5 importers of Human Blood."
   ]
  },
  {
   "cell_type": "code",
   "execution_count": 9,
   "metadata": {},
   "outputs": [
    {
     "data": {
      "text/plain": [
       "<matplotlib.axes._subplots.AxesSubplot at 0x28d64705710>"
      ]
     },
     "execution_count": 9,
     "metadata": {},
     "output_type": "execute_result"
    },
    {
     "data": {
      "image/png": "[encoded data removed]",
      "text/plain": [
       "<matplotlib.figure.Figure at 0x28d64705048>"
      ]
     },
     "metadata": {},
     "output_type": "display_data"
    }
   ],
   "source": [
    "#Basic graph plotting - Set the X and Y values, what type of graph, to show the grid, and then the size\n",
    "bloodImportTopFive.plot(x='Country', y='Trade Value (US$)', kind='bar', grid=True, figsize=(10,4))"
   ]
  },
  {
   "cell_type": "markdown",
   "metadata": {
    "collapsed": true
   },
   "source": [
    "### Objective 4 - Find the top 5 exporters of Human Blood (Display in graph)"
   ]
  },
  {
   "cell_type": "markdown",
   "metadata": {},
   "source": [
    "The table below shows the top 5 exporters of Human Blood."
   ]
  },
  {
   "cell_type": "code",
   "execution_count": 10,
   "metadata": {},
   "outputs": [
    {
     "data": {
      "text/html": [
       "<div>\n",
       "<style>\n",
       "    .dataframe thead tr:only-child th {\n",
       "        text-align: right;\n",
       "    }\n",
       "\n",
       "    .dataframe thead th {\n",
       "        text-align: left;\n",
       "    }\n",
       "\n",
       "    .dataframe tbody tr th {\n",
       "        vertical-align: top;\n",
       "    }\n",
       "</style>\n",
       "<table border=\"1\" class=\"dataframe\">\n",
       "  <thead>\n",
       "    <tr style=\"text-align: right;\">\n",
       "      <th></th>\n",
       "      <th>Year</th>\n",
       "      <th>Trade Flow</th>\n",
       "      <th>Country</th>\n",
       "      <th>Trade Value (US$)</th>\n",
       "      <th>Netweight (kg)</th>\n",
       "    </tr>\n",
       "  </thead>\n",
       "  <tbody>\n",
       "    <tr>\n",
       "      <th>0</th>\n",
       "      <td>2016</td>\n",
       "      <td>Export</td>\n",
       "      <td>Switzerland</td>\n",
       "      <td>26339740100</td>\n",
       "      <td>7298537.0</td>\n",
       "    </tr>\n",
       "    <tr>\n",
       "      <th>1</th>\n",
       "      <td>2016</td>\n",
       "      <td>Export</td>\n",
       "      <td>Germany</td>\n",
       "      <td>22819694536</td>\n",
       "      <td>24606438.0</td>\n",
       "    </tr>\n",
       "    <tr>\n",
       "      <th>2</th>\n",
       "      <td>2016</td>\n",
       "      <td>Export</td>\n",
       "      <td>USA</td>\n",
       "      <td>19124399108</td>\n",
       "      <td>64073882.0</td>\n",
       "    </tr>\n",
       "    <tr>\n",
       "      <th>3</th>\n",
       "      <td>2016</td>\n",
       "      <td>Export</td>\n",
       "      <td>Belgium</td>\n",
       "      <td>13169105760</td>\n",
       "      <td>12406758.0</td>\n",
       "    </tr>\n",
       "    <tr>\n",
       "      <th>4</th>\n",
       "      <td>2016</td>\n",
       "      <td>Export</td>\n",
       "      <td>Ireland</td>\n",
       "      <td>10711371919</td>\n",
       "      <td>2206832.0</td>\n",
       "    </tr>\n",
       "  </tbody>\n",
       "</table>\n",
       "</div>"
      ],
      "text/plain": [
       "   Year Trade Flow      Country  Trade Value (US$)  Netweight (kg)\n",
       "0  2016     Export  Switzerland        26339740100       7298537.0\n",
       "1  2016     Export      Germany        22819694536      24606438.0\n",
       "2  2016     Export          USA        19124399108      64073882.0\n",
       "3  2016     Export      Belgium        13169105760      12406758.0\n",
       "4  2016     Export      Ireland        10711371919       2206832.0"
      ]
     },
     "execution_count": 10,
     "metadata": {},
     "output_type": "execute_result"
    }
   ],
   "source": [
    "#All of this is the objective 3 code but for the exports not imports.\n",
    "bloodExportTopFive = bloodExport.sort_values('Trade Value (US$)', ascending=False).reset_index(drop=True).head()\n",
    "del bloodExportTopFive['index']\n",
    "bloodExportTopFive.head()"
   ]
  },
  {
   "cell_type": "code",
   "execution_count": 11,
   "metadata": {},
   "outputs": [
    {
     "data": {
      "text/plain": [
       "<matplotlib.axes._subplots.AxesSubplot at 0x28d64705cf8>"
      ]
     },
     "execution_count": 11,
     "metadata": {},
     "output_type": "execute_result"
    },
    {
     "data": {
      "image/png": "[encoded data removed]",
      "text/plain": [
       "<matplotlib.figure.Figure at 0x28d64752b70>"
      ]
     },
     "metadata": {},
     "output_type": "display_data"
    }
   ],
   "source": [
    "#Basic graph plotting\n",
    "bloodExportTopFive.plot(x='Country', y='Trade Value (US$)', kind='bar', grid=True, figsize=(10,4))"
   ]
  },
  {
   "cell_type": "markdown",
   "metadata": {},
   "source": [
    "### Objective 5 - Find the lowest 5 importers of Human Blood (Display in graph)"
   ]
  },
  {
   "cell_type": "code",
   "execution_count": 12,
   "metadata": {},
   "outputs": [
    {
     "data": {
      "text/html": [
       "<div>\n",
       "<style>\n",
       "    .dataframe thead tr:only-child th {\n",
       "        text-align: right;\n",
       "    }\n",
       "\n",
       "    .dataframe thead th {\n",
       "        text-align: left;\n",
       "    }\n",
       "\n",
       "    .dataframe tbody tr th {\n",
       "        vertical-align: top;\n",
       "    }\n",
       "</style>\n",
       "<table border=\"1\" class=\"dataframe\">\n",
       "  <thead>\n",
       "    <tr style=\"text-align: right;\">\n",
       "      <th></th>\n",
       "      <th>Year</th>\n",
       "      <th>Trade Flow</th>\n",
       "      <th>Country</th>\n",
       "      <th>Trade Value (US$)</th>\n",
       "      <th>Netweight (kg)</th>\n",
       "    </tr>\n",
       "  </thead>\n",
       "  <tbody>\n",
       "    <tr>\n",
       "      <th>0</th>\n",
       "      <td>2016</td>\n",
       "      <td>Import</td>\n",
       "      <td>Kiribati</td>\n",
       "      <td>79</td>\n",
       "      <td>22.0</td>\n",
       "    </tr>\n",
       "    <tr>\n",
       "      <th>1</th>\n",
       "      <td>2016</td>\n",
       "      <td>Import</td>\n",
       "      <td>Sao Tome and Principe</td>\n",
       "      <td>6134</td>\n",
       "      <td>372.0</td>\n",
       "    </tr>\n",
       "    <tr>\n",
       "      <th>2</th>\n",
       "      <td>2016</td>\n",
       "      <td>Import</td>\n",
       "      <td>Antigua and Barbuda</td>\n",
       "      <td>41384</td>\n",
       "      <td>1020.0</td>\n",
       "    </tr>\n",
       "    <tr>\n",
       "      <th>3</th>\n",
       "      <td>2016</td>\n",
       "      <td>Import</td>\n",
       "      <td>Solomon Isds</td>\n",
       "      <td>53909</td>\n",
       "      <td>NaN</td>\n",
       "    </tr>\n",
       "    <tr>\n",
       "      <th>4</th>\n",
       "      <td>2016</td>\n",
       "      <td>Import</td>\n",
       "      <td>Saint Lucia</td>\n",
       "      <td>168960</td>\n",
       "      <td>2462.0</td>\n",
       "    </tr>\n",
       "  </tbody>\n",
       "</table>\n",
       "</div>"
      ],
      "text/plain": [
       "   Year Trade Flow                Country  Trade Value (US$)  Netweight (kg)\n",
       "0  2016     Import               Kiribati                 79            22.0\n",
       "1  2016     Import  Sao Tome and Principe               6134           372.0\n",
       "2  2016     Import    Antigua and Barbuda              41384          1020.0\n",
       "3  2016     Import           Solomon Isds              53909             NaN\n",
       "4  2016     Import            Saint Lucia             168960          2462.0"
      ]
     },
     "execution_count": 12,
     "metadata": {},
     "output_type": "execute_result"
    }
   ],
   "source": [
    "#Same code as objective 3, just reversed the ascending.\n",
    "bloodImportBottomFive = bloodImport.sort_values('Trade Value (US$)', ascending=True).reset_index(drop=True).head()\n",
    "del bloodImportBottomFive['index']\n",
    "bloodImportBottomFive.head()"
   ]
  },
  {
   "cell_type": "markdown",
   "metadata": {},
   "source": [
    "Interesting extra information:\n",
    "\n",
    "Kiribati, officially the Republic of Kiribati, is a small nation in the centeral pacific ocean. It has a permanent population of just over 100,000 (acording to statistics from 2015), which is spread out over 33 atolls and one raised coral island. (More that half of the population live on Tarawa Atoll). The total land area is around 800 square kilometers (310sq mi), and the islands are dispersed over 3.5 million square kilometers (1.3 million square miles).\n",
    "\n",
    "The Republic of Kiribati became independant from the United Kingdom in 1979. The capital and most populated area is South Tarawa. The country is a member of the Commonwealths of Nations, the IMF and the World Bank, and became a full member of the United Nations in 1999.[1]\n",
    "\n",
    "[1] [Wikipedia](https://en.wikipedia.org/wiki/Kiribati) - Sourced 7th January 2018"
   ]
  },
  {
   "cell_type": "code",
   "execution_count": 13,
   "metadata": {},
   "outputs": [
    {
     "data": {
      "text/plain": [
       "<matplotlib.axes._subplots.AxesSubplot at 0x28d64752c50>"
      ]
     },
     "execution_count": 13,
     "metadata": {},
     "output_type": "execute_result"
    },
    {
     "data": {
      "image/png": "[encoded data removed]",
      "text/plain": [
       "<matplotlib.figure.Figure at 0x28d64d5f3c8>"
      ]
     },
     "metadata": {},
     "output_type": "display_data"
    }
   ],
   "source": [
    "#Basic graph plotting\n",
    "bloodImportBottomFive.plot(x='Country', y='Trade Value (US$)', kind='bar', grid=True, figsize=(10,4))"
   ]
  },
  {
   "cell_type": "markdown",
   "metadata": {},
   "source": [
    "### Objective 6 - Find the lowest 5 exporters of Human Blood (Display in graph)"
   ]
  },
  {
   "cell_type": "code",
   "execution_count": 14,
   "metadata": {},
   "outputs": [
    {
     "data": {
      "text/html": [
       "<div>\n",
       "<style>\n",
       "    .dataframe thead tr:only-child th {\n",
       "        text-align: right;\n",
       "    }\n",
       "\n",
       "    .dataframe thead th {\n",
       "        text-align: left;\n",
       "    }\n",
       "\n",
       "    .dataframe tbody tr th {\n",
       "        vertical-align: top;\n",
       "    }\n",
       "</style>\n",
       "<table border=\"1\" class=\"dataframe\">\n",
       "  <thead>\n",
       "    <tr style=\"text-align: right;\">\n",
       "      <th></th>\n",
       "      <th>Year</th>\n",
       "      <th>Trade Flow</th>\n",
       "      <th>Country</th>\n",
       "      <th>Trade Value (US$)</th>\n",
       "      <th>Netweight (kg)</th>\n",
       "    </tr>\n",
       "  </thead>\n",
       "  <tbody>\n",
       "    <tr>\n",
       "      <th>0</th>\n",
       "      <td>2016</td>\n",
       "      <td>Export</td>\n",
       "      <td>Mongolia</td>\n",
       "      <td>39</td>\n",
       "      <td>11.0</td>\n",
       "    </tr>\n",
       "    <tr>\n",
       "      <th>1</th>\n",
       "      <td>2016</td>\n",
       "      <td>Export</td>\n",
       "      <td>Mauritania</td>\n",
       "      <td>44</td>\n",
       "      <td>14.0</td>\n",
       "    </tr>\n",
       "    <tr>\n",
       "      <th>2</th>\n",
       "      <td>2016</td>\n",
       "      <td>Export</td>\n",
       "      <td>Madagascar</td>\n",
       "      <td>80</td>\n",
       "      <td>44.0</td>\n",
       "    </tr>\n",
       "    <tr>\n",
       "      <th>3</th>\n",
       "      <td>2016</td>\n",
       "      <td>Export</td>\n",
       "      <td>Rwanda</td>\n",
       "      <td>96</td>\n",
       "      <td>NaN</td>\n",
       "    </tr>\n",
       "    <tr>\n",
       "      <th>4</th>\n",
       "      <td>2016</td>\n",
       "      <td>Export</td>\n",
       "      <td>Myanmar</td>\n",
       "      <td>100</td>\n",
       "      <td>100.0</td>\n",
       "    </tr>\n",
       "  </tbody>\n",
       "</table>\n",
       "</div>"
      ],
      "text/plain": [
       "   Year Trade Flow     Country  Trade Value (US$)  Netweight (kg)\n",
       "0  2016     Export    Mongolia                 39            11.0\n",
       "1  2016     Export  Mauritania                 44            14.0\n",
       "2  2016     Export  Madagascar                 80            44.0\n",
       "3  2016     Export      Rwanda                 96             NaN\n",
       "4  2016     Export     Myanmar                100           100.0"
      ]
     },
     "execution_count": 14,
     "metadata": {},
     "output_type": "execute_result"
    }
   ],
   "source": [
    "#Same code as objective 3, just reversed the ascending.\n",
    "bloodExportBottomFive = bloodExport.sort_values('Trade Value (US$)', ascending=True).reset_index(drop=True).head()\n",
    "del bloodExportBottomFive['index']\n",
    "bloodExportBottomFive.head()"
   ]
  },
  {
   "cell_type": "code",
   "execution_count": 15,
   "metadata": {},
   "outputs": [
    {
     "data": {
      "text/plain": [
       "<matplotlib.axes._subplots.AxesSubplot at 0x28d65de3be0>"
      ]
     },
     "execution_count": 15,
     "metadata": {},
     "output_type": "execute_result"
    },
    {
     "data": {
      "image/png": "[encoded data removed]",
      "text/plain": [
       "<matplotlib.figure.Figure at 0x28d64dcf940>"
      ]
     },
     "metadata": {},
     "output_type": "display_data"
    }
   ],
   "source": [
    "#Basic graph plotting\n",
    "bloodExportBottomFive.plot(x='Country', y='Trade Value (US$)', kind='bar', grid=True, figsize=(10,4))"
   ]
  },
  {
   "cell_type": "markdown",
   "metadata": {
    "collapsed": true
   },
   "source": [
    "### Objective 7 - Find the top 5 importers and exporters of Human Blood (Display in graph)"
   ]
  },
  {
   "cell_type": "code",
   "execution_count": 16,
   "metadata": {},
   "outputs": [
    {
     "data": {
      "text/html": [
       "<div>\n",
       "<style>\n",
       "    .dataframe thead tr:only-child th {\n",
       "        text-align: right;\n",
       "    }\n",
       "\n",
       "    .dataframe thead th {\n",
       "        text-align: left;\n",
       "    }\n",
       "\n",
       "    .dataframe tbody tr th {\n",
       "        vertical-align: top;\n",
       "    }\n",
       "</style>\n",
       "<table border=\"1\" class=\"dataframe\">\n",
       "  <thead>\n",
       "    <tr style=\"text-align: right;\">\n",
       "      <th></th>\n",
       "      <th>Country</th>\n",
       "      <th>Trade Value (US$)</th>\n",
       "      <th>Netweight (kg)</th>\n",
       "    </tr>\n",
       "  </thead>\n",
       "  <tbody>\n",
       "    <tr>\n",
       "      <th>0</th>\n",
       "      <td>Germany</td>\n",
       "      <td>41354154130</td>\n",
       "      <td>46384911.0</td>\n",
       "    </tr>\n",
       "    <tr>\n",
       "      <th>1</th>\n",
       "      <td>USA</td>\n",
       "      <td>39801694754</td>\n",
       "      <td>83091248.0</td>\n",
       "    </tr>\n",
       "    <tr>\n",
       "      <th>2</th>\n",
       "      <td>Switzerland</td>\n",
       "      <td>33818237681</td>\n",
       "      <td>16250284.0</td>\n",
       "    </tr>\n",
       "    <tr>\n",
       "      <th>3</th>\n",
       "      <td>Belgium</td>\n",
       "      <td>24439898443</td>\n",
       "      <td>23094836.0</td>\n",
       "    </tr>\n",
       "    <tr>\n",
       "      <th>4</th>\n",
       "      <td>United Kingdom</td>\n",
       "      <td>18691865415</td>\n",
       "      <td>40332981.0</td>\n",
       "    </tr>\n",
       "  </tbody>\n",
       "</table>\n",
       "</div>"
      ],
      "text/plain": [
       "          Country  Trade Value (US$)  Netweight (kg)\n",
       "0         Germany        41354154130      46384911.0\n",
       "1             USA        39801694754      83091248.0\n",
       "2     Switzerland        33818237681      16250284.0\n",
       "3         Belgium        24439898443      23094836.0\n",
       "4  United Kingdom        18691865415      40332981.0"
      ]
     },
     "execution_count": 16,
     "metadata": {},
     "output_type": "execute_result"
    }
   ],
   "source": [
    "\"\"\"Here I use grouping to add the countries total imports, exports, re-imports and re-exports together. I save the results to a\n",
    "dataframes called bloodImportAndExport\"\"\"\n",
    "grouped = bloodTotal.groupby('Country')\n",
    "bloodImportAndExport = grouped.aggregate(sum)\n",
    "#As Ive summed up all the iformation on each country into one row the year value gets added as well. We dont need it so I\n",
    "#remove it.\n",
    "del bloodImportAndExport['Year']\n",
    "#Here I do the usual sort, reset index, save only the head (top 5) to a new dataframe.\n",
    "bloodImportAndExportTopFive = bloodImportAndExport.sort_values('Trade Value (US$)', ascending=False).head().reset_index(drop=False)\n",
    "bloodImportAndExportTopFive.head()"
   ]
  },
  {
   "cell_type": "code",
   "execution_count": 17,
   "metadata": {},
   "outputs": [
    {
     "data": {
      "text/plain": [
       "<matplotlib.axes._subplots.AxesSubplot at 0x28d649f5160>"
      ]
     },
     "execution_count": 17,
     "metadata": {},
     "output_type": "execute_result"
    },
    {
     "data": {
      "image/png": "[encoded data removed]",
      "text/plain": [
       "<matplotlib.figure.Figure at 0x28d65e11b70>"
      ]
     },
     "metadata": {},
     "output_type": "display_data"
    }
   ],
   "source": [
    "#Basic graph plotting\n",
    "bloodImportAndExportTopFive.plot(x='Country', y='Trade Value (US$)', kind='bar', grid=True, figsize=(10,4))"
   ]
  },
  {
   "cell_type": "markdown",
   "metadata": {},
   "source": [
    "### Objective 8 - Find the lowest 5 importers and exporters of Human Blood (Display in graph)"
   ]
  },
  {
   "cell_type": "code",
   "execution_count": 18,
   "metadata": {},
   "outputs": [
    {
     "data": {
      "text/html": [
       "<div>\n",
       "<style>\n",
       "    .dataframe thead tr:only-child th {\n",
       "        text-align: right;\n",
       "    }\n",
       "\n",
       "    .dataframe thead th {\n",
       "        text-align: left;\n",
       "    }\n",
       "\n",
       "    .dataframe tbody tr th {\n",
       "        vertical-align: top;\n",
       "    }\n",
       "</style>\n",
       "<table border=\"1\" class=\"dataframe\">\n",
       "  <thead>\n",
       "    <tr style=\"text-align: right;\">\n",
       "      <th></th>\n",
       "      <th>Country</th>\n",
       "      <th>Trade Value (US$)</th>\n",
       "      <th>Netweight (kg)</th>\n",
       "    </tr>\n",
       "  </thead>\n",
       "  <tbody>\n",
       "    <tr>\n",
       "      <th>0</th>\n",
       "      <td>Kiribati</td>\n",
       "      <td>79</td>\n",
       "      <td>22.0</td>\n",
       "    </tr>\n",
       "    <tr>\n",
       "      <th>1</th>\n",
       "      <td>Sao Tome and Principe</td>\n",
       "      <td>6134</td>\n",
       "      <td>372.0</td>\n",
       "    </tr>\n",
       "    <tr>\n",
       "      <th>2</th>\n",
       "      <td>Antigua and Barbuda</td>\n",
       "      <td>44208</td>\n",
       "      <td>1086.0</td>\n",
       "    </tr>\n",
       "    <tr>\n",
       "      <th>3</th>\n",
       "      <td>Solomon Isds</td>\n",
       "      <td>53909</td>\n",
       "      <td>NaN</td>\n",
       "    </tr>\n",
       "    <tr>\n",
       "      <th>4</th>\n",
       "      <td>Saint Lucia</td>\n",
       "      <td>168960</td>\n",
       "      <td>2462.0</td>\n",
       "    </tr>\n",
       "  </tbody>\n",
       "</table>\n",
       "</div>"
      ],
      "text/plain": [
       "                 Country  Trade Value (US$)  Netweight (kg)\n",
       "0               Kiribati                 79            22.0\n",
       "1  Sao Tome and Principe               6134           372.0\n",
       "2    Antigua and Barbuda              44208          1086.0\n",
       "3           Solomon Isds              53909             NaN\n",
       "4            Saint Lucia             168960          2462.0"
      ]
     },
     "execution_count": 18,
     "metadata": {},
     "output_type": "execute_result"
    }
   ],
   "source": [
    "#Here I do the usual sort, reset index, save only the head (top 5) to a new dataframe.\n",
    "bloodImportAndExportBottomFive = bloodImportAndExport.sort_values('Trade Value (US$)', ascending=True).head().reset_index(drop=False)\n",
    "bloodImportAndExportBottomFive.head()"
   ]
  },
  {
   "cell_type": "code",
   "execution_count": 19,
   "metadata": {},
   "outputs": [
    {
     "data": {
      "text/plain": [
       "<matplotlib.axes._subplots.AxesSubplot at 0x28d65ed8048>"
      ]
     },
     "execution_count": 19,
     "metadata": {},
     "output_type": "execute_result"
    },
    {
     "data": {
      "image/png": "[encoded data removed]",
      "text/plain": [
       "<matplotlib.figure.Figure at 0x28d65ebdda0>"
      ]
     },
     "metadata": {},
     "output_type": "display_data"
    }
   ],
   "source": [
    "#Basic graph plotting\n",
    "bloodImportAndExportBottomFive.plot(x='Country', y='Trade Value (US$)', kind='bar', grid=True, figsize=(10,4))"
   ]
  },
  {
   "cell_type": "markdown",
   "metadata": {},
   "source": [
    "### Objective 9 - Find the data on the United Kingdom, USA and China. Display in a pivot table."
   ]
  },
  {
   "cell_type": "code",
   "execution_count": 20,
   "metadata": {},
   "outputs": [
    {
     "data": {
      "text/html": [
       "<div>\n",
       "<style>\n",
       "    .dataframe thead tr:only-child th {\n",
       "        text-align: right;\n",
       "    }\n",
       "\n",
       "    .dataframe thead th {\n",
       "        text-align: left;\n",
       "    }\n",
       "\n",
       "    .dataframe tbody tr th {\n",
       "        vertical-align: top;\n",
       "    }\n",
       "</style>\n",
       "<table border=\"1\" class=\"dataframe\">\n",
       "  <thead>\n",
       "    <tr style=\"text-align: right;\">\n",
       "      <th></th>\n",
       "      <th>Year</th>\n",
       "      <th>Trade Flow</th>\n",
       "      <th>Country</th>\n",
       "      <th>Trade Value (US$)</th>\n",
       "      <th>Netweight (kg)</th>\n",
       "    </tr>\n",
       "  </thead>\n",
       "  <tbody>\n",
       "    <tr>\n",
       "      <th>52</th>\n",
       "      <td>2016</td>\n",
       "      <td>Import</td>\n",
       "      <td>China</td>\n",
       "      <td>5655860860</td>\n",
       "      <td>10648316.0</td>\n",
       "    </tr>\n",
       "    <tr>\n",
       "      <th>53</th>\n",
       "      <td>2016</td>\n",
       "      <td>Export</td>\n",
       "      <td>China</td>\n",
       "      <td>632703973</td>\n",
       "      <td>13959956.0</td>\n",
       "    </tr>\n",
       "    <tr>\n",
       "      <th>260</th>\n",
       "      <td>2016</td>\n",
       "      <td>Import</td>\n",
       "      <td>United Kingdom</td>\n",
       "      <td>10001382681</td>\n",
       "      <td>11751068.0</td>\n",
       "    </tr>\n",
       "    <tr>\n",
       "      <th>261</th>\n",
       "      <td>2016</td>\n",
       "      <td>Export</td>\n",
       "      <td>United Kingdom</td>\n",
       "      <td>8688090999</td>\n",
       "      <td>28570553.0</td>\n",
       "    </tr>\n",
       "    <tr>\n",
       "      <th>262</th>\n",
       "      <td>2016</td>\n",
       "      <td>Re-Import</td>\n",
       "      <td>United Kingdom</td>\n",
       "      <td>2391735</td>\n",
       "      <td>11360.0</td>\n",
       "    </tr>\n",
       "    <tr>\n",
       "      <th>265</th>\n",
       "      <td>2016</td>\n",
       "      <td>Import</td>\n",
       "      <td>USA</td>\n",
       "      <td>20167930206</td>\n",
       "      <td>18016725.0</td>\n",
       "    </tr>\n",
       "    <tr>\n",
       "      <th>266</th>\n",
       "      <td>2016</td>\n",
       "      <td>Export</td>\n",
       "      <td>USA</td>\n",
       "      <td>19124399108</td>\n",
       "      <td>64073882.0</td>\n",
       "    </tr>\n",
       "    <tr>\n",
       "      <th>267</th>\n",
       "      <td>2016</td>\n",
       "      <td>Re-Export</td>\n",
       "      <td>USA</td>\n",
       "      <td>509365440</td>\n",
       "      <td>1000641.0</td>\n",
       "    </tr>\n",
       "  </tbody>\n",
       "</table>\n",
       "</div>"
      ],
      "text/plain": [
       "     Year Trade Flow         Country  Trade Value (US$)  Netweight (kg)\n",
       "52   2016     Import           China         5655860860      10648316.0\n",
       "53   2016     Export           China          632703973      13959956.0\n",
       "260  2016     Import  United Kingdom        10001382681      11751068.0\n",
       "261  2016     Export  United Kingdom         8688090999      28570553.0\n",
       "262  2016  Re-Import  United Kingdom            2391735         11360.0\n",
       "265  2016     Import             USA        20167930206      18016725.0\n",
       "266  2016     Export             USA        19124399108      64073882.0\n",
       "267  2016  Re-Export             USA          509365440       1000641.0"
      ]
     },
     "execution_count": 20,
     "metadata": {},
     "output_type": "execute_result"
    }
   ],
   "source": [
    "\"\"\"Here I pull out all rows of data from the \"main\" dataframe,(bloodTotal where all the raw data was imported and cleaned up), \n",
    "that are the countries needed for my pivot table.\"\"\"\n",
    "bloodObjectiveNine = bloodTotal[(bloodTotal['Country'] == \"United Kingdom\") | (bloodTotal['Country'] == \"USA\") | \n",
    "                     (bloodTotal['Country'] == \"China\")]\n",
    "#I used .head(20) to see how many results we actually have in the table. The number in the () sets how many to show.\n",
    "bloodObjectiveNine.head(20)"
   ]
  },
  {
   "cell_type": "code",
   "execution_count": 21,
   "metadata": {},
   "outputs": [
    {
     "data": {
      "text/html": [
       "<div>\n",
       "<style>\n",
       "    .dataframe thead tr:only-child th {\n",
       "        text-align: right;\n",
       "    }\n",
       "\n",
       "    .dataframe thead th {\n",
       "        text-align: left;\n",
       "    }\n",
       "\n",
       "    .dataframe tbody tr th {\n",
       "        vertical-align: top;\n",
       "    }\n",
       "</style>\n",
       "<table border=\"1\" class=\"dataframe\">\n",
       "  <thead>\n",
       "    <tr>\n",
       "      <th></th>\n",
       "      <th colspan=\"4\" halign=\"left\">Netweight (kg)</th>\n",
       "      <th colspan=\"4\" halign=\"left\">Trade Value (US$)</th>\n",
       "    </tr>\n",
       "    <tr>\n",
       "      <th>Trade Flow</th>\n",
       "      <th>Export</th>\n",
       "      <th>Import</th>\n",
       "      <th>Re-Export</th>\n",
       "      <th>Re-Import</th>\n",
       "      <th>Export</th>\n",
       "      <th>Import</th>\n",
       "      <th>Re-Export</th>\n",
       "      <th>Re-Import</th>\n",
       "    </tr>\n",
       "    <tr>\n",
       "      <th>Country</th>\n",
       "      <th></th>\n",
       "      <th></th>\n",
       "      <th></th>\n",
       "      <th></th>\n",
       "      <th></th>\n",
       "      <th></th>\n",
       "      <th></th>\n",
       "      <th></th>\n",
       "    </tr>\n",
       "  </thead>\n",
       "  <tbody>\n",
       "    <tr>\n",
       "      <th>China</th>\n",
       "      <td>13959956</td>\n",
       "      <td>10648316</td>\n",
       "      <td>0</td>\n",
       "      <td>0</td>\n",
       "      <td>632703973</td>\n",
       "      <td>5655860860</td>\n",
       "      <td>0</td>\n",
       "      <td>0</td>\n",
       "    </tr>\n",
       "    <tr>\n",
       "      <th>USA</th>\n",
       "      <td>64073882</td>\n",
       "      <td>18016725</td>\n",
       "      <td>1000641</td>\n",
       "      <td>0</td>\n",
       "      <td>19124399108</td>\n",
       "      <td>20167930206</td>\n",
       "      <td>509365440</td>\n",
       "      <td>0</td>\n",
       "    </tr>\n",
       "    <tr>\n",
       "      <th>United Kingdom</th>\n",
       "      <td>28570553</td>\n",
       "      <td>11751068</td>\n",
       "      <td>0</td>\n",
       "      <td>11360</td>\n",
       "      <td>8688090999</td>\n",
       "      <td>10001382681</td>\n",
       "      <td>0</td>\n",
       "      <td>2391735</td>\n",
       "    </tr>\n",
       "  </tbody>\n",
       "</table>\n",
       "</div>"
      ],
      "text/plain": [
       "               Netweight (kg)                               Trade Value (US$)  \\\n",
       "Trade Flow             Export    Import Re-Export Re-Import            Export   \n",
       "Country                                                                         \n",
       "China                13959956  10648316         0         0         632703973   \n",
       "USA                  64073882  18016725   1000641         0       19124399108   \n",
       "United Kingdom       28570553  11751068         0     11360        8688090999   \n",
       "\n",
       "                                                  \n",
       "Trade Flow           Import  Re-Export Re-Import  \n",
       "Country                                           \n",
       "China            5655860860          0         0  \n",
       "USA             20167930206  509365440         0  \n",
       "United Kingdom  10001382681          0   2391735  "
      ]
     },
     "execution_count": 21,
     "metadata": {},
     "output_type": "execute_result"
    }
   ],
   "source": [
    "\"\"\"\n",
    "This is the layout of the pivot table. We use the dataframe that contains only the countries we are intereted in - \n",
    "bloodObjectiveNine. We set the index to the country so we can read all values and netweight of one countries data across all \n",
    "the columns.\n",
    "\n",
    "The fill_value=0 makes it so all the null/NaN values are replaced with a 0. This makes it much more readable. It could \n",
    "cause problems in some datasets though, as giving something a value might cause errors or people coming to the wrong \n",
    "conclusions\n",
    "\"\"\"\n",
    "pivot_table(bloodObjectiveNine,\n",
    "           index=COUNTRY,\n",
    "           values=[VALUE, NETWEIGHT],\n",
    "           columns=FLOW,\n",
    "           fill_value=0,\n",
    "           )\n",
    "\n"
   ]
  },
  {
   "cell_type": "markdown",
   "metadata": {
    "collapsed": true
   },
   "source": [
    "## Conclusions"
   ]
  },
  {
   "cell_type": "markdown",
   "metadata": {},
   "source": [
    "The objectives and data found:\n",
    "\n",
    "1. The total value of the worlds Human Blood exports is $130,032,923,258\n",
    "\n",
    "- The total value of the worlds Human Blood imports is $131,519,813,186\n",
    "\n",
    "- The top 5 importers of Human Blood are : the USA, Germany, Belgium, the United Kingdom and Switzerland.\n",
    "\n",
    "- The top 5 exporters of Human Blood are : Switzerland, Germany, the USA, Belgium and Ireland.\n",
    "\n",
    "- The lowest 5 importers of Human Blood are : Kiribati, Sao Tome and Principe, Antigua and Barbuda, Solomon Isds and Saint Lucia.\n",
    "\n",
    "- The lowest 5 exporters of Human Blood are : Mongolia, Mauritania, Madagascar, Rwanda and Myanmar.\n",
    "\n",
    "- The top 5 importers and exporters of Human Blood are : Germany, the USA, Switzerland, Belgium and the United Kingdom.\n",
    "\n",
    "- The lowest 5 importers and exporters of Human Blood are : Kiribati, Sao Tome and Principe, Antigua and Barbuda, Solomon Isds and Saint Lucia.\n",
    "\n",
    "- Find the data on the United Kingdom, USA and China. (Display in a pivot table). - Completed\n",
    "\n",
    "I have commented all of my code as I have gone along to explain what it does and show that I at least a grasp on the basics of Pandas and Matplotlib."
   ]
  },
  {
   "cell_type": "code",
   "execution_count": null,
   "metadata": {
    "collapsed": true
   },
   "outputs": [],
   "source": []
  }
 ],
 "metadata": {
  "kernelspec": {
   "display_name": "Python 3",
   "language": "python",
   "name": "python3"
  },
  "language_info": {
   "codemirror_mode": {
    "name": "ipython",
    "version": 3
   },
   "file_extension": ".py",
   "mimetype": "text/x-python",
   "name": "python",
   "nbconvert_exporter": "python",
   "pygments_lexer": "ipython3",
   "version": "3.6.3"
  }
 },
 "nbformat": 4,
 "nbformat_minor": 2
}
